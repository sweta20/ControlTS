{
 "cells": [
  {
   "cell_type": "code",
   "execution_count": null,
   "id": "49f44a9b",
   "metadata": {},
   "outputs": [],
   "source": [
    "import pandas as pd\n",
    "\n",
    "df1 = pd.read_csv(\"all_paper_Scores.csv\", index_col=None)"
   ]
  },
  {
   "cell_type": "code",
   "execution_count": null,
   "id": "d778004d",
   "metadata": {},
   "outputs": [],
   "source": [
    "df1.head()"
   ]
  },
  {
   "cell_type": "code",
   "execution_count": null,
   "id": "3c53029c",
   "metadata": {},
   "outputs": [],
   "source": [
    "df1.columns"
   ]
  },
  {
   "cell_type": "code",
   "execution_count": null,
   "id": "0f4ce044",
   "metadata": {},
   "outputs": [],
   "source": [
    "df1[[\"Keep-F1\", \"Add-F1\", \"Del-F1\", \"P\",\"R\", \"F\", \"LevDist (Src)\", \"LevDist (Tgt)\"]].corr()"
   ]
  },
  {
   "cell_type": "code",
   "execution_count": null,
   "id": "9937cc02",
   "metadata": {},
   "outputs": [],
   "source": [
    "models = [\"Grade Control\", \"Avg-Grade\", \"CP-Single\", \"Reference\", \"CP-Multi\", \"Corpus-level\"]"
   ]
  },
  {
   "cell_type": "code",
   "execution_count": null,
   "id": "06d74db0",
   "metadata": {},
   "outputs": [],
   "source": [
    "# SARI is at corpus level\n",
    "\n",
    "for model in [\"Grade Control\", \"CP-Multi\"]:\n",
    "    print(model)\n",
    "    print(\"All\", df1[(df1.model==model)][[\"F\", \"ARI Accuracy\"]].astype(float).mean())\n",
    "    print(\"No exact Match\", df1[(df1.model==model) & (df1.Complex != df1.Simple)][[\"F\", \"ARI Accuracy\"]].astype(float).mean())\n",
    "    print(\"\\n\")"
   ]
  },
  {
   "cell_type": "code",
   "execution_count": null,
   "id": "93899033",
   "metadata": {},
   "outputs": [],
   "source": [
    "df1[\"SG_ARI\"] = df1[\"SG_ARI\"].astype(int)"
   ]
  },
  {
   "cell_type": "code",
   "execution_count": null,
   "id": "ce98dfe5",
   "metadata": {},
   "outputs": [],
   "source": [
    "all_instances = {}\n",
    "for group_name, group_df in df1.groupby([\"Complex\", \"SG\"]):\n",
    "    if group_name[1]==12:\n",
    "        target_grades = group_df[group_df.SG_ARI==12].TG.to_list()\n",
    "        if set([5]) <= set(target_grades):\n",
    "            all_instances[group_name[0]] = group_df[(group_df.TG.isin([5])) & (group_df.model.isin([\"Reference\", \"Avg-Grade\", \"CP-Multi\"]))]"
   ]
  },
  {
   "cell_type": "code",
   "execution_count": null,
   "id": "daa08176",
   "metadata": {},
   "outputs": [],
   "source": [
    "len(all_instances)"
   ]
  },
  {
   "cell_type": "code",
   "execution_count": null,
   "id": "4c6a8608",
   "metadata": {},
   "outputs": [],
   "source": [
    "import random"
   ]
  },
  {
   "cell_type": "code",
   "execution_count": null,
   "id": "712d759e",
   "metadata": {},
   "outputs": [],
   "source": [
    "key = random.sample(list(all_instances), 1)[0]\n",
    "print(key)"
   ]
  },
  {
   "cell_type": "code",
   "execution_count": null,
   "id": "0cc3e328",
   "metadata": {},
   "outputs": [],
   "source": [
    "pd.set_option('display.max_colwidth', None)"
   ]
  },
  {
   "cell_type": "code",
   "execution_count": null,
   "id": "f0a78174",
   "metadata": {},
   "outputs": [],
   "source": [
    "all_instances[key][[\"model\", \"SG\",\"TG\", \"Simple\", \"SARI\"]]"
   ]
  },
  {
   "cell_type": "code",
   "execution_count": null,
   "id": "51d447f8",
   "metadata": {},
   "outputs": [],
   "source": [
    "from pingouin import ttest\n",
    "\n",
    "for col in  [\"SARI\", \"F\", \"ARI Accuracy\"]:\n",
    "    print(df1[df1.model==\"Avg-Grade\"][col].mean())\n",
    "    print(df1[df1.model==\"CP-Multi\"][col].mean())\n",
    "    \n",
    "    print(col, ttest(df1[df1.model==\"Avg-Grade\"][col], df1[df1.model==\"CP-Multi\"][col], correction = False))"
   ]
  },
  {
   "cell_type": "code",
   "execution_count": null,
   "id": "4ab6c46d",
   "metadata": {},
   "outputs": [],
   "source": [
    "import seaborn as sns\n",
    "import matplotlib as mpl\n",
    "import matplotlib.pyplot as plt\n",
    "mpl.rcParams['figure.dpi']= 300"
   ]
  },
  {
   "cell_type": "code",
   "execution_count": null,
   "id": "0fb14a34",
   "metadata": {},
   "outputs": [],
   "source": [
    "for col in [ \"Add-F1\", \"Keep-F1\", \"Del-P\"]:\n",
    "    g = sns.barplot(x=\"TG\", y=col, data=df1[~(df1.model.isin([\"Reference\", \"CP-Single\"]))], hue=\"model\")\n",
    "    if col == \"Keep-F1\":\n",
    "        plt.legend(loc='upper left', ncol=1)\n",
    "    else:\n",
    "        plt.legend(loc='upper right', ncol=1)\n",
    "    # plt.legend([],[], frameon=False)\n",
    "    plt.xlabel('Target Grade')\n",
    "    plt.ylabel(col)\n",
    "    plt.show()"
   ]
  },
  {
   "cell_type": "code",
   "execution_count": null,
   "id": "eceaec9f",
   "metadata": {},
   "outputs": [],
   "source": [
    "for col in [ \"Add-F1\", \"Keep-F1\", \"Del-F1\"]:\n",
    "    g = sns.barplot(x=\"TG\", y=col, data=df1[~(df1.model.isin([\"Reference\", \"CP-Single\", \"Corpus-level\"]))], hue=\"model\")\n",
    "    plt.legend(loc='upper right', ncol=1)\n",
    "    # plt.legend([],[], frameon=False)\n",
    "    plt.xlabel('Grade Diff')\n",
    "    plt.ylabel(col)\n",
    "    plt.show()"
   ]
  },
  {
   "cell_type": "markdown",
   "id": "73fc2d25",
   "metadata": {},
   "source": [
    "# Control Analysis"
   ]
  },
  {
   "cell_type": "code",
   "execution_count": null,
   "id": "76ec395f",
   "metadata": {},
   "outputs": [],
   "source": [
    "\n",
    "complex_text_grade = read_file(f\"{NEWSELA_GRADE_PATH}/newsela-grade-true/newsela-grade-true.{split}.complex\")\n",
    "CONTROL_FILES = {\n",
    "    \"Corpus-level\": \"../experiments/newsela-grade.test.corpus-best\",\n",
    "    \"Avg-Grade\": \"newsela-grade-avg-baseline-sg-test.txt\"  ,\n",
    "    \"CP-multi\":\"../controlPredictor/experiments/exp-newsela-catboost-sg-multi/output_ari.txt\",\n",
    "    \"Oracle\" :\"../resources/processed_data/b6e484f0eec4c8c7bccb24a5d0cbe432/newsela-grade/newsela-grade.test.complex\",\n",
    "}\n",
    "                \n",
    "\n",
    "all_tokens = []\n",
    "for key, out_f in CONTROL_FILES.items():\n",
    "    control_out = read_file(out_f)\n",
    "    for i in range(len(control_out)):\n",
    "        sg, tg = [int(a.split(\"_\")[1]) for a in complex_text_grade[i].split(\" \")[:2]]\n",
    "        tokens = {a.split(\"_\")[0]: float(a.split(\"_\")[1]) for a in control_out[i].split(\" \")[:5]}\n",
    "        for tok_name, tok_val in tokens.items():\n",
    "            all_tokens.append([key,sg, tg,tok_name, tok_val])"
   ]
  },
  {
   "cell_type": "code",
   "execution_count": null,
   "id": "9dea9999",
   "metadata": {},
   "outputs": [],
   "source": [
    "import pandas as pd\n",
    "\n",
    "control_df = pd.DataFrame(all_tokens)\n",
    "control_df.columns = [\"Model\", \"SG\", \"TG\", \"Control Type\", \"Control Value\"]"
   ]
  },
  {
   "cell_type": "code",
   "execution_count": null,
   "id": "6c5ad482",
   "metadata": {},
   "outputs": [],
   "source": [
    "import seaborn as sns\n",
    "import matplotlib as mpl\n",
    "import matplotlib.pyplot as plt\n",
    "mpl.rcParams['figure.dpi']= 300"
   ]
  },
  {
   "cell_type": "code",
   "execution_count": null,
   "id": "503e86aa",
   "metadata": {},
   "outputs": [],
   "source": [
    "sns.boxplot(data=control_df, x=\"Control Type\", y=\"Control Value\", hue=\"Model\")\n",
    "plt.legend(loc='upper right')"
   ]
  },
  {
   "cell_type": "code",
   "execution_count": null,
   "id": "d5887645",
   "metadata": {},
   "outputs": [],
   "source": [
    "fig, axes = plt.subplots(ncols=4, nrows=2, figsize=(20,15), dpi=200)\n",
    "grades = list(range(2, 10))\n",
    "for i, ax in zip(range(8), axes.flat):\n",
    "    sns.boxplot(data=control_df[control_df.TG==grades[i]], x=\"Control Type\", y=\"Control Value\", hue=\"Model\", ax=ax)\n",
    "#     ax.get_legend().remove()\n",
    "    ax.set_title(\"Target Grade %d\" %grades[i])\n",
    "\n",
    "# add legend\n",
    "# handles, labels = ax.get_legend_handles_labels()\n",
    "# fig.legend(handles, labels, loc='lower left')\n",
    "\n",
    "plt.show()"
   ]
  },
  {
   "cell_type": "code",
   "execution_count": null,
   "id": "30f0359a",
   "metadata": {},
   "outputs": [],
   "source": []
  }
 ],
 "metadata": {
  "kernelspec": {
   "display_name": "Python 3 (ipykernel)",
   "language": "python",
   "name": "python3"
  },
  "language_info": {
   "codemirror_mode": {
    "name": "ipython",
    "version": 3
   },
   "file_extension": ".py",
   "mimetype": "text/x-python",
   "name": "python",
   "nbconvert_exporter": "python",
   "pygments_lexer": "ipython3",
   "version": "3.10.6"
  }
 },
 "nbformat": 4,
 "nbformat_minor": 5
}
